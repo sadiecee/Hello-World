{
  "nbformat": 4,
  "nbformat_minor": 0,
  "metadata": {
    "colab": {
      "name": "Untitled0.ipynb",
      "provenance": [],
      "authorship_tag": "ABX9TyOkxfac4VsCDpkm2VGjvHtK",
      "include_colab_link": true
    },
    "kernelspec": {
      "name": "python3",
      "display_name": "Python 3"
    }
  },
  "cells": [
    {
      "cell_type": "markdown",
      "metadata": {
        "id": "view-in-github",
        "colab_type": "text"
      },
      "source": [
        "<a href=\"https://colab.research.google.com/github/sadiecee/Hello-World/blob/main/python_assign01_smurray.ipynb\" target=\"_parent\"><img src=\"https://colab.research.google.com/assets/colab-badge.svg\" alt=\"Open In Colab\"/></a>"
      ]
    },
    {
      "cell_type": "markdown",
      "metadata": {
        "id": "5WKrIh7BknY2"
      },
      "source": [
        "**Sadie Murray**\r\n",
        "2.25.21\r\n",
        "\r\n",
        "\r\n",
        "---\r\n",
        "Python Program #1\r\n"
      ]
    },
    {
      "cell_type": "code",
      "metadata": {
        "colab": {
          "base_uri": "https://localhost:8080/"
        },
        "id": "NHaOnoMdkYEc",
        "outputId": "71f9c2a5-4a72-4e71-9312-d0a8672d16f5"
      },
      "source": [
        "# This is my demo code saved from Colabs to my \"Main\" branch in GitHub. \r\n",
        "for i in range(10):\r\n",
        "  print(\"Github + Colab will make me unstoppable.\")"
      ],
      "execution_count": 1,
      "outputs": [
        {
          "output_type": "stream",
          "text": [
            "Github + Colab will make me unstoppable.\n",
            "Github + Colab will make me unstoppable.\n",
            "Github + Colab will make me unstoppable.\n",
            "Github + Colab will make me unstoppable.\n",
            "Github + Colab will make me unstoppable.\n",
            "Github + Colab will make me unstoppable.\n",
            "Github + Colab will make me unstoppable.\n",
            "Github + Colab will make me unstoppable.\n",
            "Github + Colab will make me unstoppable.\n",
            "Github + Colab will make me unstoppable.\n"
          ],
          "name": "stdout"
        }
      ]
    },
    {
      "cell_type": "code",
      "metadata": {
        "id": "QrPJumgSkgP4"
      },
      "source": [
        ""
      ],
      "execution_count": null,
      "outputs": []
    }
  ]
}